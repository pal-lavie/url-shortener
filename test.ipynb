{
 "cells": [
  {
   "cell_type": "code",
   "execution_count": null,
   "metadata": {},
   "outputs": [],
   "source": [
    "import docker\n",
    "\n",
    "docker_client = docker.from_env()\n",
    "\n",
    "DOCKER_IMAGE_BACKEND = \"url-shortener-backend\"\n",
    "DOCKER_CONTAINER_BACKEND = \"url-shortener-backend-1\"\n",
    "DOCKER_CONTAINER_BACKEND_PORT = \"8000\"\n",
    "\n",
    "\n",
    "docker_client.images.pull(f\"{DOCKER_IMAGE_BACKEND}:latest\")\n",
    "    \n",
    "container_name = DOCKER_CONTAINER_BACKEND\n",
    "# Stop the existing container\n",
    "try:\n",
    "    existing_container = docker_client.containers.get(container_name)\n",
    "    existing_container.stop()\n",
    "    existing_container.remove()\n",
    "except docker.errors.NotFound:\n",
    "    pass \n",
    "\n",
    "# Start a new container with the updated image\n",
    "    docker_client.containers.run(\n",
    "        f\"{DOCKER_IMAGE_BACKEND}:latest\",\n",
    "        name=container_name,\n",
    "        detach=True,\n",
    "        ports={DOCKER_CONTAINER_BACKEND_PORT: DOCKER_CONTAINER_BACKEND_PORT}\n",
    "    )\n",
    "    print(f\"Starting a new container {container_name} with updated image {DOCKER_IMAGE_BACKEND}\")"
   ]
  },
  {
   "cell_type": "code",
   "execution_count": null,
   "metadata": {},
   "outputs": [],
   "source": []
  }
 ],
 "metadata": {
  "kernelspec": {
   "display_name": "backend-mVk13LPy",
   "language": "python",
   "name": "python3"
  },
  "language_info": {
   "name": "python",
   "version": "3.9.0"
  }
 },
 "nbformat": 4,
 "nbformat_minor": 2
}
